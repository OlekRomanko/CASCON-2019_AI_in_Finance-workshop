{
 "cells": [
  {
   "cell_type": "markdown",
   "metadata": {},
   "source": [
    "# Cognitive Portfolio Optimizer\n",
    "\n",
    "\n",
    "## Description\n",
    "\n",
    "This AI-application aims at understanding investment objectives and constraints expressed in natural language, converting them into structured financial optimization problems and communicating back results in natural language and with visualization.\n",
    "\n",
    "This Python notebook is an example of a pratical cognitive portfolio optimizer chatbot. This notebook outlines steps to combine Watson Assistant service on IBM Cloud with Portfolio Optimization service on IBM Cloud.\n",
    "\n",
    "This notebook requires a tradable universe. The experimental version of the Portfolio Optimization service https://cloud.ibm.com/catalog/services/portfolio-optimization has a static data set for users to play with; live data dataset will be integrated in future releases. Note that much of the data in this sample set is _representative_ of actual data. \n",
    "\n",
    "The spreadsheet \"Universe Data\" contains all relevant information on the current sample data set.\n",
    "\n",
    "## How to run this application\n",
    "\n",
    "### Step 1. Input your IBM Cloud service credentials and deplicate the chatbot and prepare dataset\n",
    "\n",
    "You will need to input the credentials for Watson Assistant (https://www.ibm.com/watson/ai-assistant/), Watson Natural Language Understanding (https://www.ibm.com/watson/services/natural-language-understanding/) and Portfolio Optimization service (https://cloud.ibm.com/catalog/services/portfolio-optimization).\n",
    "\n",
    "The workplace you entered as credentials of Watson Assistant should be a trained chatbot workplace.\n",
    "\n",
    "### Step 2. Import Python libraries and functions\n",
    "\n",
    "Before you can really 'talk' to the chatbot instance through this notebook, please import the first part of the notebook.\n",
    "Remenber to add/replace the credentials of Watson Assistance, Watson Natural Language Understanding and Portfolio Optimization service before starting.\n",
    "\n",
    "### Step 3. Start chating and view optimized results\n",
    "\n",
    "After the first two steps, your cognitive portfolio optimizer chatbot is ready to go!\n",
    "\n",
    "Use `processing_text(your_text)` function to submit your natural text input for processing. \n",
    "\n",
    "Use `processing_text('Lets start from the beginning')` to clear all the previous input and start a new conversation.\n",
    "\n",
    "After you input your objecties, constraints, use `processing_text(your_text)` with text as 'start optimization' (or similar meaning) to initiate the optimization process."
   ]
  },
  {
   "cell_type": "markdown",
   "metadata": {},
   "source": [
    "### Step 2. Import Python libraries and functions\n",
    "\n",
    "Before you can really 'talk' to the chatbot instance through this notebook, please import the first part of the notebook.\n",
    "Remenber to add/replace the credentials of Watson Assistance, Watson Natural Language Understanding and Portfolio Optimization service before starting."
   ]
  },
  {
   "cell_type": "code",
   "execution_count": 36,
   "metadata": {},
   "outputs": [],
   "source": [
    "try:\n",
    "    from ibm_watson import AssistantV2\n",
    "except:\n",
    "    !pip install ibm-watson\n",
    "    from ibm_watson import AssistantV2"
   ]
  },
  {
   "cell_type": "code",
   "execution_count": 37,
   "metadata": {},
   "outputs": [],
   "source": [
    "import json\n",
    "from ibm_cloud_sdk_core.authenticators import IAMAuthenticator\n",
    "\n",
    "assist_id='8b577994-4b1a-4e9f-acb5-cc63fe54ab27'\n",
    "\n",
    "service = AssistantV2(\n",
    "    version='2019-02-28',\n",
    "    authenticator = IAMAuthenticator('J4wqOjopvIrYoWSIZiZnRk1WAxXPlRSeuLnLT1YiJtaB')\n",
    ")\n",
    "\n",
    "response = service.create_session(\n",
    "    assistant_id=assist_id\n",
    ").get_result()\n",
    "\n",
    "sess_id = response[\"session_id\"]\n",
    "\n",
    "#print(json.dumps(response, indent=2))"
   ]
  },
  {
   "cell_type": "markdown",
   "metadata": {},
   "source": [
    "Try your first message with chatbot"
   ]
  },
  {
   "cell_type": "code",
   "execution_count": 38,
   "metadata": {},
   "outputs": [
    {
     "name": "stdout",
     "output_type": "stream",
     "text": [
      "{\n",
      "  \"output\": {\n",
      "    \"generic\": [\n",
      "      {\n",
      "        \"response_type\": \"text\",\n",
      "        \"text\": \"Hi, why don't you start by telling me how long you'd like to invest for. Enter 'help' for more information.\"\n",
      "      }\n",
      "    ],\n",
      "    \"intents\": [\n",
      "      {\n",
      "        \"intent\": \"greetings\",\n",
      "        \"confidence\": 1\n",
      "      }\n",
      "    ],\n",
      "    \"entities\": []\n",
      "  }\n",
      "}\n"
     ]
    }
   ],
   "source": [
    "resp = service.message(\n",
    "    assistant_id=assist_id,\n",
    "    session_id=sess_id,\n",
    "    input={\n",
    "        'message_type': 'text',\n",
    "        'text': 'Hello'\n",
    "    }\n",
    ").get_result()\n",
    "\n",
    "print(json.dumps(resp, indent=2))"
   ]
  },
  {
   "cell_type": "code",
   "execution_count": 39,
   "metadata": {},
   "outputs": [
    {
     "data": {
      "text/plain": [
       "\"Hi, why don't you start by telling me how long you'd like to invest for. Enter 'help' for more information.\""
      ]
     },
     "execution_count": 39,
     "metadata": {},
     "output_type": "execute_result"
    }
   ],
   "source": [
    "resp[\"output\"][\"generic\"][0][\"text\"]"
   ]
  },
  {
   "cell_type": "markdown",
   "metadata": {},
   "source": [
    "### Step 3. Start chating and view optimized results\n",
    "\n",
    "After the first two steps, your cognitive portfolio optimizer chatbot is ready to go!\n",
    "\n",
    "Use `processing_text(your_text)` function to submit your natural text input for processing. \n",
    "\n",
    "Use `processing_text('Lets start from the beginning')` to clear all the previous input and start a new conversation.\n",
    "\n",
    "After you input your objecties, constraints, use `processing_text(your_text)` with text as 'start optimization' (or similar meaning) to initiate the optimization process."
   ]
  },
  {
   "cell_type": "code",
   "execution_count": 40,
   "metadata": {},
   "outputs": [],
   "source": [
    "def processing_text (text):\n",
    "    global assist_id\n",
    "    global sess_id\n",
    "    \n",
    "    response = service.message(\n",
    "    assistant_id=assist_id,\n",
    "    session_id=sess_id,\n",
    "    input={\n",
    "        'message_type': 'text',\n",
    "        'text': text\n",
    "    }\n",
    "    ).get_result()\n",
    "    \n",
    "    print('\\nYour Input:\\t \\t \\t' + text)\n",
    "    \n",
    "    print('Chatbot Response:   ' + '\\033[0;32;10m\\t' + response[\"output\"][\"generic\"][0][\"text\"] + '\\033[0m')\n",
    "    \n",
    "    return response"
   ]
  },
  {
   "cell_type": "code",
   "execution_count": 41,
   "metadata": {},
   "outputs": [
    {
     "name": "stdout",
     "output_type": "stream",
     "text": [
      "\n",
      "Your Input:\t \t \tI am investing for 30 years.\n",
      "Chatbot Response:   \u001b[0;32;10m\tBased on the time horizon of your investment, I am applying an aggressive benchmark.\u001b[0m\n"
     ]
    },
    {
     "data": {
      "text/plain": [
       "{'output': {'generic': [{'response_type': 'text',\n",
       "    'text': 'Based on the time horizon of your investment, I am applying an aggressive benchmark.'}],\n",
       "  'intents': [{'intent': 'benchmark_selection',\n",
       "    'confidence': 0.9887239456176757}],\n",
       "  'entities': [{'entity': 'sys-number',\n",
       "    'location': [19, 21],\n",
       "    'value': '30',\n",
       "    'confidence': 1,\n",
       "    'metadata': {'numeric_value': 30}},\n",
       "   {'entity': 'time_unit',\n",
       "    'location': [22, 27],\n",
       "    'value': 'year',\n",
       "    'confidence': 1}]}}"
      ]
     },
     "execution_count": 41,
     "metadata": {},
     "output_type": "execute_result"
    }
   ],
   "source": [
    "processing_text(text='I am investing for 30 years.')"
   ]
  },
  {
   "cell_type": "code",
   "execution_count": 42,
   "metadata": {},
   "outputs": [
    {
     "name": "stdout",
     "output_type": "stream",
     "text": [
      "\n",
      "Your Input:\t \t \tLets start from the beginning\n",
      "Chatbot Response:   \u001b[0;32;10m\tOk - let's make a new portfolio. \u001b[0m\n",
      "\n",
      "Your Input:\t \t \tI am investing for 30 years.\n",
      "Chatbot Response:   \u001b[0;32;10m\tBased on the time horizon of your investment, I am applying an aggressive benchmark.\u001b[0m\n",
      "\n",
      "Your Input:\t \t \tI would like to invest $30000 in my RRSP this year.\n",
      "Chatbot Response:   \u001b[0;32;10m\tSure I can increase your investment budget. All done.\u001b[0m\n",
      "\n",
      "Your Input:\t \t \tI do not like having military and tobacco assets in my portfolio.\n",
      "Chatbot Response:   \u001b[0;32;10m\tI will exclude all assets with this feature from your portfolio. \u001b[0m\n",
      "\n",
      "Your Input:\t \t \tInclude 14 shares of CX_US0533321024_NYQ into my holdings.\n",
      "Chatbot Response:   \u001b[0;32;10m\tI am adding the required asset into your current holdings. Use delete and asset name to cancel this change.\u001b[0m\n",
      "\n",
      "Your Input:\t \t \tInclude 162 shares of CX_US0584981064_NYQ into my holdings.\n",
      "Chatbot Response:   \u001b[0;32;10m\tSure - I will add this asset into your holdings!\u001b[0m\n",
      "\n",
      "Your Input:\t \t \tInclude 67 shares of CX_US1696561059_NYQ into my holdings.\n",
      "Chatbot Response:   \u001b[0;32;10m\tI am adding the required asset into your current holdings. Use delete and asset name to cancel this change.\u001b[0m\n",
      "\n",
      "Your Input:\t \t \tInclude 68 shares of CX_US1912161007_NYQ into my holdings.\n",
      "Chatbot Response:   \u001b[0;32;10m\tSure - I will add this asset into your holdings!\u001b[0m\n",
      "\n",
      "Your Input:\t \t \tInclude 67 shares of CX_US29379VAY92_USD into my holdings.\n",
      "Chatbot Response:   \u001b[0;32;10m\tSure - I will add this asset into your holdings!\u001b[0m\n",
      "\n",
      "Your Input:\t \t \tI want no short selling in my portfolio\n",
      "Chatbot Response:   \u001b[0;32;10m\tOk I won't short sell any assets in your portfolio\u001b[0m\n",
      "\n",
      "Your Input:\t \t \tI want my portfolio to be diversified and each asset has weight less than 0.1\n",
      "Chatbot Response:   \u001b[0;32;10m\tOk I will make sure that your portfolio is well diversified\u001b[0m\n",
      "\n",
      "Your Input:\t \t \tI want my portfolio to have high environmental scores\n",
      "Chatbot Response:   \u001b[0;32;10m\tOk -  I will make sure that your portfolio has an overall high score in this area.\u001b[0m\n",
      "\n",
      "Your Input:\t \t \tI want my portfolio to have more than 20% IT assets instead\n",
      "Chatbot Response:   \u001b[0;32;10m\tSure I will add constraints on this sector!\u001b[0m\n",
      "\n",
      "Your Input:\t \t \tI want my portfolio to have more than 20% Industrials assets\n",
      "Chatbot Response:   \u001b[0;32;10m\tSure I will add constraints on this sector!\u001b[0m\n"
     ]
    },
    {
     "data": {
      "text/plain": [
       "{'output': {'generic': [{'response_type': 'text',\n",
       "    'text': 'Sure I will add constraints on this sector!'}],\n",
       "  'intents': [{'intent': 'constrain_asset_class',\n",
       "    'confidence': 0.8886107921600341}],\n",
       "  'entities': [{'entity': 'inequality_relationship',\n",
       "    'location': [28, 32],\n",
       "    'value': 'greater-or-equal',\n",
       "    'confidence': 1},\n",
       "   {'entity': 'sys-number',\n",
       "    'location': [38, 40],\n",
       "    'value': '20',\n",
       "    'confidence': 1,\n",
       "    'metadata': {'numeric_value': 20}},\n",
       "   {'entity': 'sys-percentage',\n",
       "    'location': [38, 41],\n",
       "    'value': '20',\n",
       "    'confidence': 1,\n",
       "    'metadata': {'numeric_value': 20}},\n",
       "   {'entity': 'asset_sectors',\n",
       "    'location': [42, 53],\n",
       "    'value': 'industrials',\n",
       "    'confidence': 1}]}}"
      ]
     },
     "execution_count": 42,
     "metadata": {},
     "output_type": "execute_result"
    }
   ],
   "source": [
    "processing_text('Lets start from the beginning')\n",
    "processing_text(text='I am investing for 30 years.')\n",
    "processing_text(text='I would like to invest $30000 in my RRSP this year.')\n",
    "processing_text(text='I do not like having military and tobacco assets in my portfolio.')\n",
    "processing_text(text='Include 14 shares of CX_US0533321024_NYQ into my holdings.')\n",
    "processing_text(text='Include 162 shares of CX_US0584981064_NYQ into my holdings.')\n",
    "processing_text(text='Include 67 shares of CX_US1696561059_NYQ into my holdings.')\n",
    "processing_text(text='Include 68 shares of CX_US1912161007_NYQ into my holdings.')\n",
    "processing_text(text='Include 67 shares of CX_US29379VAY92_USD into my holdings.')\n",
    "processing_text(text='I want no short selling in my portfolio')\n",
    "processing_text(text='I want my portfolio to be diversified and each asset has weight less than 0.1')\n",
    "processing_text('I want my portfolio to have high environmental scores')\n",
    "processing_text('I want my portfolio to have more than 20% IT assets instead')\n",
    "processing_text('I want my portfolio to have more than 20% Industrials assets')"
   ]
  },
  {
   "cell_type": "markdown",
   "metadata": {},
   "source": [
    "### Step 4. Convert chatbot converstation into portfolio optimization problem\n",
    "\n",
    "Based on `Notebook-4_Portfolio_Optimization.ipynb` example convert your chatbot converstation into portfolio optimization problem and solve it with Portfolio Optimization service https://cloud.ibm.com/catalog/services/portfolio-optimization on IBM Cloud. _Do it as your homework_.\n",
    "\n",
    "Now, our AI app has selected an optimal investment portfolio based on your preferences."
   ]
  }
 ],
 "metadata": {
  "kernelspec": {
   "display_name": "Python 3.6",
   "language": "python",
   "name": "python3"
  },
  "language_info": {
   "codemirror_mode": {
    "name": "ipython",
    "version": 3
   },
   "file_extension": ".py",
   "mimetype": "text/x-python",
   "name": "python",
   "nbconvert_exporter": "python",
   "pygments_lexer": "ipython3",
   "version": "3.6.8"
  }
 },
 "nbformat": 4,
 "nbformat_minor": 1
}
