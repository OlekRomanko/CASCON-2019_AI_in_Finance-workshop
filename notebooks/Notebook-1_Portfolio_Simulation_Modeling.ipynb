{
 "cells": [
  {
   "cell_type": "markdown",
   "metadata": {},
   "source": [
    "# Portfolio Simulation Modeling"
   ]
  },
  {
   "cell_type": "markdown",
   "metadata": {},
   "source": [
    "## Download Data\n",
    "#### Download S&P 500 index data from Yahoo Finance"
   ]
  },
  {
   "cell_type": "code",
   "execution_count": 1,
   "metadata": {
    "scrolled": true
   },
   "outputs": [],
   "source": [
    "import pandas as pd\n",
    "import matplotlib.pyplot as plt\n",
    "import datetime as datetime\n",
    "from numpy import *\n",
    "%matplotlib inline"
   ]
  },
  {
   "cell_type": "code",
   "execution_count": 2,
   "metadata": {},
   "outputs": [
    {
     "name": "stdout",
     "output_type": "stream",
     "text": [
      "Collecting pandas_datareader\n",
      "\u001b[?25l  Downloading https://files.pythonhosted.org/packages/14/52/accb990baebe0063977f26e02df36aa7eb4015ed4e86f828cd76273cd6f1/pandas_datareader-0.8.1-py2.py3-none-any.whl (107kB)\n",
      "\u001b[K     |████████████████████████████████| 112kB 23.4MB/s eta 0:00:01\n",
      "\u001b[?25hRequirement already satisfied: pandas>=0.21 in /opt/conda/envs/Python36/lib/python3.6/site-packages (from pandas_datareader) (0.24.1)\n",
      "Requirement already satisfied: requests>=2.3.0 in /opt/conda/envs/Python36/lib/python3.6/site-packages (from pandas_datareader) (2.21.0)\n",
      "Requirement already satisfied: lxml in /opt/conda/envs/Python36/lib/python3.6/site-packages (from pandas_datareader) (4.3.1)\n",
      "Requirement already satisfied: python-dateutil>=2.5.0 in /opt/conda/envs/Python36/lib/python3.6/site-packages (from pandas>=0.21->pandas_datareader) (2.7.5)\n",
      "Requirement already satisfied: numpy>=1.12.0 in /opt/conda/envs/Python36/lib/python3.6/site-packages (from pandas>=0.21->pandas_datareader) (1.15.4)\n",
      "Requirement already satisfied: pytz>=2011k in /opt/conda/envs/Python36/lib/python3.6/site-packages (from pandas>=0.21->pandas_datareader) (2018.9)\n",
      "Requirement already satisfied: idna<2.9,>=2.5 in /opt/conda/envs/Python36/lib/python3.6/site-packages (from requests>=2.3.0->pandas_datareader) (2.8)\n",
      "Requirement already satisfied: urllib3<1.25,>=1.21.1 in /opt/conda/envs/Python36/lib/python3.6/site-packages (from requests>=2.3.0->pandas_datareader) (1.24.1)\n",
      "Requirement already satisfied: certifi>=2017.4.17 in /opt/conda/envs/Python36/lib/python3.6/site-packages (from requests>=2.3.0->pandas_datareader) (2019.9.11)\n",
      "Requirement already satisfied: chardet<3.1.0,>=3.0.2 in /opt/conda/envs/Python36/lib/python3.6/site-packages (from requests>=2.3.0->pandas_datareader) (3.0.4)\n",
      "Requirement already satisfied: six>=1.5 in /opt/conda/envs/Python36/lib/python3.6/site-packages (from python-dateutil>=2.5.0->pandas>=0.21->pandas_datareader) (1.12.0)\n",
      "Installing collected packages: pandas-datareader\n",
      "Successfully installed pandas-datareader-0.8.1\n"
     ]
    }
   ],
   "source": [
    "try:\n",
    "    import pandas_datareader as web\n",
    "except:\n",
    "    !pip install pandas_datareader\n",
    "    import pandas_datareader as web"
   ]
  },
  {
   "cell_type": "markdown",
   "metadata": {},
   "source": [
    "Set start date, end date and data source ('Yahoo Finance', 'Google Finance', etc.). Download S&P 500 index data from Yahoo Finance."
   ]
  },
  {
   "cell_type": "code",
   "execution_count": 7,
   "metadata": {
    "scrolled": true
   },
   "outputs": [
    {
     "data": {
      "text/html": [
       "<div>\n",
       "<style scoped>\n",
       "    .dataframe tbody tr th:only-of-type {\n",
       "        vertical-align: middle;\n",
       "    }\n",
       "\n",
       "    .dataframe tbody tr th {\n",
       "        vertical-align: top;\n",
       "    }\n",
       "\n",
       "    .dataframe thead th {\n",
       "        text-align: right;\n",
       "    }\n",
       "</style>\n",
       "<table border=\"1\" class=\"dataframe\">\n",
       "  <thead>\n",
       "    <tr style=\"text-align: right;\">\n",
       "      <th></th>\n",
       "      <th>High</th>\n",
       "      <th>Low</th>\n",
       "      <th>Open</th>\n",
       "      <th>Close</th>\n",
       "      <th>Volume</th>\n",
       "      <th>Adj Close</th>\n",
       "    </tr>\n",
       "    <tr>\n",
       "      <th>Date</th>\n",
       "      <th></th>\n",
       "      <th></th>\n",
       "      <th></th>\n",
       "      <th></th>\n",
       "      <th></th>\n",
       "      <th></th>\n",
       "    </tr>\n",
       "  </thead>\n",
       "  <tbody>\n",
       "    <tr>\n",
       "      <th>1987-01-02</th>\n",
       "      <td>246.449997</td>\n",
       "      <td>242.169998</td>\n",
       "      <td>242.169998</td>\n",
       "      <td>246.449997</td>\n",
       "      <td>91880000</td>\n",
       "      <td>246.449997</td>\n",
       "    </tr>\n",
       "    <tr>\n",
       "      <th>1987-01-05</th>\n",
       "      <td>252.570007</td>\n",
       "      <td>246.449997</td>\n",
       "      <td>246.449997</td>\n",
       "      <td>252.190002</td>\n",
       "      <td>181900000</td>\n",
       "      <td>252.190002</td>\n",
       "    </tr>\n",
       "    <tr>\n",
       "      <th>1987-01-06</th>\n",
       "      <td>253.990005</td>\n",
       "      <td>252.139999</td>\n",
       "      <td>252.199997</td>\n",
       "      <td>252.779999</td>\n",
       "      <td>189300000</td>\n",
       "      <td>252.779999</td>\n",
       "    </tr>\n",
       "    <tr>\n",
       "      <th>1987-01-07</th>\n",
       "      <td>255.720001</td>\n",
       "      <td>252.649994</td>\n",
       "      <td>252.779999</td>\n",
       "      <td>255.330002</td>\n",
       "      <td>190900000</td>\n",
       "      <td>255.330002</td>\n",
       "    </tr>\n",
       "    <tr>\n",
       "      <th>1987-01-08</th>\n",
       "      <td>257.279999</td>\n",
       "      <td>254.970001</td>\n",
       "      <td>255.360001</td>\n",
       "      <td>257.279999</td>\n",
       "      <td>194500000</td>\n",
       "      <td>257.279999</td>\n",
       "    </tr>\n",
       "  </tbody>\n",
       "</table>\n",
       "</div>"
      ],
      "text/plain": [
       "                  High         Low        Open       Close     Volume  \\\n",
       "Date                                                                    \n",
       "1987-01-02  246.449997  242.169998  242.169998  246.449997   91880000   \n",
       "1987-01-05  252.570007  246.449997  246.449997  252.190002  181900000   \n",
       "1987-01-06  253.990005  252.139999  252.199997  252.779999  189300000   \n",
       "1987-01-07  255.720001  252.649994  252.779999  255.330002  190900000   \n",
       "1987-01-08  257.279999  254.970001  255.360001  257.279999  194500000   \n",
       "\n",
       "             Adj Close  \n",
       "Date                    \n",
       "1987-01-02  246.449997  \n",
       "1987-01-05  252.190002  \n",
       "1987-01-06  252.779999  \n",
       "1987-01-07  255.330002  \n",
       "1987-01-08  257.279999  "
      ]
     },
     "execution_count": 7,
     "metadata": {},
     "output_type": "execute_result"
    }
   ],
   "source": [
    "start_date = datetime.date(1987,1,1)\n",
    "end_date = datetime.date(2019,1,1)\n",
    "# Download S&P 500 index data\n",
    "SnP500_Ddata = web.DataReader('^GSPC','yahoo',start_date,end_date)\n",
    "SnP500_Ddata.head()"
   ]
  },
  {
   "cell_type": "markdown",
   "metadata": {},
   "source": [
    "#### Transform daily data into annual data:"
   ]
  },
  {
   "cell_type": "code",
   "execution_count": 8,
   "metadata": {
    "scrolled": true
   },
   "outputs": [
    {
     "data": {
      "text/html": [
       "<div>\n",
       "<style scoped>\n",
       "    .dataframe tbody tr th:only-of-type {\n",
       "        vertical-align: middle;\n",
       "    }\n",
       "\n",
       "    .dataframe tbody tr th {\n",
       "        vertical-align: top;\n",
       "    }\n",
       "\n",
       "    .dataframe thead th {\n",
       "        text-align: right;\n",
       "    }\n",
       "</style>\n",
       "<table border=\"1\" class=\"dataframe\">\n",
       "  <thead>\n",
       "    <tr style=\"text-align: right;\">\n",
       "      <th></th>\n",
       "      <th>Volume</th>\n",
       "      <th>Adj Close</th>\n",
       "    </tr>\n",
       "    <tr>\n",
       "      <th>Date</th>\n",
       "      <th></th>\n",
       "      <th></th>\n",
       "    </tr>\n",
       "  </thead>\n",
       "  <tbody>\n",
       "    <tr>\n",
       "      <th>2014-12-31</th>\n",
       "      <td>2606070000</td>\n",
       "      <td>2058.899902</td>\n",
       "    </tr>\n",
       "    <tr>\n",
       "      <th>2015-12-31</th>\n",
       "      <td>2655330000</td>\n",
       "      <td>2043.939941</td>\n",
       "    </tr>\n",
       "    <tr>\n",
       "      <th>2016-12-31</th>\n",
       "      <td>2670900000</td>\n",
       "      <td>2238.830078</td>\n",
       "    </tr>\n",
       "    <tr>\n",
       "      <th>2017-12-31</th>\n",
       "      <td>2443490000</td>\n",
       "      <td>2673.610107</td>\n",
       "    </tr>\n",
       "    <tr>\n",
       "      <th>2018-12-31</th>\n",
       "      <td>3442870000</td>\n",
       "      <td>2506.850098</td>\n",
       "    </tr>\n",
       "  </tbody>\n",
       "</table>\n",
       "</div>"
      ],
      "text/plain": [
       "                Volume    Adj Close\n",
       "Date                               \n",
       "2014-12-31  2606070000  2058.899902\n",
       "2015-12-31  2655330000  2043.939941\n",
       "2016-12-31  2670900000  2238.830078\n",
       "2017-12-31  2443490000  2673.610107\n",
       "2018-12-31  3442870000  2506.850098"
      ]
     },
     "execution_count": 8,
     "metadata": {},
     "output_type": "execute_result"
    }
   ],
   "source": [
    "# Create a time-series of annual data points from daily data\n",
    "SnP500_Adata = SnP500_Ddata.resample('A').last()\n",
    "SnP500_Adata[['Volume','Adj Close']].tail()"
   ]
  },
  {
   "cell_type": "markdown",
   "metadata": {},
   "source": [
    "#### Compute annual return of S&P 500 index:"
   ]
  },
  {
   "cell_type": "code",
   "execution_count": 9,
   "metadata": {
    "scrolled": true
   },
   "outputs": [
    {
     "name": "stdout",
     "output_type": "stream",
     "text": [
      "Date\n",
      "1988-12-31    0.124008\n",
      "1989-12-31    0.272505\n",
      "1990-12-31   -0.065591\n",
      "1991-12-31    0.263067\n",
      "1992-12-31    0.044643\n",
      "1993-12-31    0.070552\n",
      "1994-12-31   -0.015393\n",
      "1995-12-31    0.341107\n",
      "1996-12-31    0.202637\n",
      "1997-12-31    0.310082\n",
      "1998-12-31    0.266686\n",
      "1999-12-31    0.195260\n",
      "2000-12-31   -0.101392\n",
      "2001-12-31   -0.130427\n",
      "2002-12-31   -0.233660\n",
      "2003-12-31    0.263804\n",
      "2004-12-31    0.089935\n",
      "2005-12-31    0.030010\n",
      "2006-12-31    0.136194\n",
      "2007-12-31    0.035296\n",
      "2008-12-31   -0.384858\n",
      "2009-12-31    0.234542\n",
      "2010-12-31    0.127827\n",
      "2011-12-31   -0.000032\n",
      "2012-12-31    0.134057\n",
      "2013-12-31    0.296012\n",
      "2014-12-31    0.113906\n",
      "2015-12-31   -0.007266\n",
      "2016-12-31    0.095350\n",
      "2017-12-31    0.194200\n",
      "2018-12-31   -0.062373\n",
      "Freq: A-DEC, Name: returns, dtype: float64\n"
     ]
    }
   ],
   "source": [
    "SnP500_Adata[['Adj Close']] = SnP500_Adata[['Adj Close']].apply(pd.to_numeric, errors='ignore')\n",
    "SnP500_Adata['returns'] = SnP500_Adata['Adj Close'] / SnP500_Adata['Adj Close'].shift(1) -1\n",
    "SnP500_Adata = SnP500_Adata.dropna()\n",
    "print (SnP500_Adata['returns'])"
   ]
  },
  {
   "cell_type": "markdown",
   "metadata": {},
   "source": [
    "#### Compute average annual return and standard deviation of return for S&P 500 index:"
   ]
  },
  {
   "cell_type": "code",
   "execution_count": 10,
   "metadata": {},
   "outputs": [
    {
     "name": "stdout",
     "output_type": "stream",
     "text": [
      "S&P 500 average return = 9.16351%, st. dev  = 16.7522%\n"
     ]
    }
   ],
   "source": [
    "SnP500_mean_ret = float(SnP500_Adata[['returns']].mean())\n",
    "SnP500_std_ret = float(SnP500_Adata[['returns']].std())\n",
    "print (\"S&P 500 average return = %g%%, st. dev  = %g%%\" % (100*SnP500_mean_ret, 100*SnP500_std_ret))"
   ]
  },
  {
   "cell_type": "markdown",
   "metadata": {},
   "source": [
    "## Simulation Example 1"
   ]
  },
  {
   "cell_type": "markdown",
   "metadata": {},
   "source": [
    "We want to invest $\\$$1000 in the US stock market for 1 year: $v_0 = 1000$"
   ]
  },
  {
   "cell_type": "code",
   "execution_count": 11,
   "metadata": {},
   "outputs": [],
   "source": [
    "v0 = 1000 # Initial capital"
   ]
  },
  {
   "cell_type": "markdown",
   "metadata": {},
   "source": [
    "In our example we assume that the return of the market over the next year follow Normal distribution.\n",
    "\n",
    "Between 1988 and 2018, S&P 500 returned 9.16% per year on average with a standard deviation of 16.75%.\n",
    "\n",
    "Generate 100 scenarios for the market return over the next year (draw 100 random numbers from a Normal distribution with mean 9.39% and standard deviation of 16.58%):"
   ]
  },
  {
   "cell_type": "code",
   "execution_count": 12,
   "metadata": {},
   "outputs": [
    {
     "data": {
      "text/plain": [
       "array([-0.02376144, -0.01428698, -0.05094212,  0.21741113, -0.08565062,\n",
       "        0.28249873,  0.21069596, -0.00936676,  0.31398891,  0.2965546 ,\n",
       "        0.09872314,  0.36701661,  0.1870693 ,  0.1034908 , -0.07281393,\n",
       "       -0.09501672, -0.21184435, -0.06843122, -0.07026842, -0.14623911,\n",
       "        0.28796443,  0.3482247 , -0.04155241,  0.17193336,  0.31155848,\n",
       "        0.29735862,  0.76200482,  0.22444651, -0.02687194,  0.06119067,\n",
       "        0.28484731, -0.11641077, -0.07171528,  0.24354869,  0.10349102,\n",
       "        0.17327781,  0.24475461, -0.09300221, -0.23979463, -0.00854951,\n",
       "        0.05486312, -0.14793002, -0.04526878,  0.26820653,  0.08616573,\n",
       "        0.23061042, -0.02323297, -0.00239223,  0.14940719,  0.28307602,\n",
       "        0.3387601 ,  0.15573712,  0.23608787,  0.32256714,  0.1626788 ,\n",
       "        0.11476786,  0.04635828, -0.43567947,  0.22264349,  0.24217436,\n",
       "        0.2793565 , -0.12184184, -0.08199995,  0.05914421, -0.06771399,\n",
       "        0.10534133,  0.14110329,  0.19838645,  0.10809226, -0.2922488 ,\n",
       "        0.37045676,  0.2786706 , -0.02934593,  0.32059846, -0.05760549,\n",
       "        0.11534346,  0.28505665,  0.20208971,  0.10732868,  0.2768137 ,\n",
       "        0.06845125, -0.03836174,  0.26106907,  0.07885113,  0.16639534,\n",
       "        0.14781284,  0.11035598,  0.25563029,  0.04607918,  0.20431209,\n",
       "        0.3091229 , -0.009284  , -0.12761352, -0.04018117,  0.477077  ,\n",
       "       -0.14157682, -0.42962389,  0.11378258,  0.03934091,  0.4229989 ])"
      ]
     },
     "execution_count": 12,
     "metadata": {},
     "output_type": "execute_result"
    }
   ],
   "source": [
    "Ns = 100 # Number of scenarios\n",
    "r01 = random.normal(SnP500_mean_ret, SnP500_std_ret, Ns)\n",
    "r01"
   ]
  },
  {
   "cell_type": "markdown",
   "metadata": {},
   "source": [
    "Value of investment at the end of year 1:\n",
    "$v_1 = v_0 + r_{0,1}\\cdot v_0 = (1 + r_{0,1})\\cdot v_0$"
   ]
  },
  {
   "cell_type": "code",
   "execution_count": 13,
   "metadata": {},
   "outputs": [
    {
     "data": {
      "text/plain": [
       "array([ 976.23855979,  985.7130158 ,  949.05788027, 1217.41112848,\n",
       "        914.34938198, 1282.49872763, 1210.69596025,  990.6332406 ,\n",
       "       1313.98891326, 1296.55460075, 1098.72314141, 1367.01660746,\n",
       "       1187.06929736, 1103.4908004 ,  927.18607239,  904.98327627,\n",
       "        788.15564861,  931.56877656,  929.73158425,  853.76089103,\n",
       "       1287.96442841, 1348.22469832,  958.44758674, 1171.93335508,\n",
       "       1311.55847515, 1297.35862211, 1762.00481948, 1224.44651035,\n",
       "        973.12806362, 1061.19067303, 1284.8473144 ,  883.58923353,\n",
       "        928.28472184, 1243.54869426, 1103.49102103, 1173.27780996,\n",
       "       1244.75461294,  906.9977949 ,  760.20536739,  991.45049116,\n",
       "       1054.86311823,  852.06998403,  954.7312188 , 1268.20652848,\n",
       "       1086.16573319, 1230.61041671,  976.7670272 ,  997.60777378,\n",
       "       1149.40718794, 1283.0760212 , 1338.76010283, 1155.73712256,\n",
       "       1236.08786602, 1322.56714046, 1162.67879918, 1114.76785851,\n",
       "       1046.35828225,  564.32052766, 1222.64348501, 1242.17435701,\n",
       "       1279.35649892,  878.15815937,  918.00004893, 1059.14421285,\n",
       "        932.28601212, 1105.34132622, 1141.10328989, 1198.38644507,\n",
       "       1108.0922569 ,  707.75120088, 1370.45675563, 1278.67059524,\n",
       "        970.65406612, 1320.5984638 ,  942.39450598, 1115.34346228,\n",
       "       1285.05665162, 1202.0897083 , 1107.32868184, 1276.81370328,\n",
       "       1068.45125337,  961.63825622, 1261.06906935, 1078.85112753,\n",
       "       1166.39534366, 1147.81283699, 1110.3559757 , 1255.63029263,\n",
       "       1046.07918072, 1204.31208517, 1309.1229007 ,  990.71599892,\n",
       "        872.3864824 ,  959.8188315 , 1477.07700154,  858.42317705,\n",
       "        570.37611381, 1113.78258139, 1039.3409073 , 1422.99889809])"
      ]
     },
     "execution_count": 13,
     "metadata": {},
     "output_type": "execute_result"
    }
   ],
   "source": [
    "# Distribution of value at the end of year 1\n",
    "v1 = (r01 + 1) * v0\n",
    "v1"
   ]
  },
  {
   "cell_type": "markdown",
   "metadata": {},
   "source": [
    "Mean:"
   ]
  },
  {
   "cell_type": "code",
   "execution_count": 14,
   "metadata": {},
   "outputs": [
    {
     "data": {
      "text/plain": [
       "1105.1679670855"
      ]
     },
     "execution_count": 14,
     "metadata": {},
     "output_type": "execute_result"
    }
   ],
   "source": [
    "mean(v1)"
   ]
  },
  {
   "cell_type": "markdown",
   "metadata": {},
   "source": [
    "Standard deviation: "
   ]
  },
  {
   "cell_type": "code",
   "execution_count": 15,
   "metadata": {},
   "outputs": [
    {
     "data": {
      "text/plain": [
       "190.73279512184968"
      ]
     },
     "execution_count": 15,
     "metadata": {},
     "output_type": "execute_result"
    }
   ],
   "source": [
    "std(v1)"
   ]
  },
  {
   "cell_type": "markdown",
   "metadata": {},
   "source": [
    "Minimum, maximum: "
   ]
  },
  {
   "cell_type": "code",
   "execution_count": 16,
   "metadata": {},
   "outputs": [
    {
     "data": {
      "text/plain": [
       "(564.3205276571473, 1762.0048194793726)"
      ]
     },
     "execution_count": 16,
     "metadata": {},
     "output_type": "execute_result"
    }
   ],
   "source": [
    "min(v1), max(v1)"
   ]
  },
  {
   "cell_type": "markdown",
   "metadata": {},
   "source": [
    "Persentiles\n",
    "\n",
    "5th percentile, median, 95th percentile:"
   ]
  },
  {
   "cell_type": "code",
   "execution_count": 17,
   "metadata": {},
   "outputs": [
    {
     "data": {
      "text/plain": [
       "array([ 848.87426726, 1109.2241163 , 1349.16429378])"
      ]
     },
     "execution_count": 17,
     "metadata": {},
     "output_type": "execute_result"
    }
   ],
   "source": [
    "percentile(v1, [5, 50,95])"
   ]
  },
  {
   "cell_type": "markdown",
   "metadata": {},
   "source": [
    "Alternative way to compute percentiles\n",
    "\n",
    "5th percentile, median, 95th percentile:"
   ]
  },
  {
   "cell_type": "code",
   "execution_count": 18,
   "metadata": {},
   "outputs": [
    {
     "data": {
      "text/plain": [
       "(788.1556486122183, 1108.0922568976969, 1348.2246983248851)"
      ]
     },
     "execution_count": 18,
     "metadata": {},
     "output_type": "execute_result"
    }
   ],
   "source": [
    "sortedScen = sorted(v1)   # Sort scenarios\n",
    "sortedScen[5-1], sortedScen[50-1], sortedScen[95-1]"
   ]
  },
  {
   "cell_type": "markdown",
   "metadata": {},
   "source": [
    "Plot a histogram of the distribution of outcomes for v1:"
   ]
  },
  {
   "cell_type": "code",
   "execution_count": 19,
   "metadata": {
    "scrolled": true
   },
   "outputs": [
    {
     "data": {
      "image/png": "[encoded data removed]",
      "text/plain": [
       "<Figure size 432x288 with 1 Axes>"
      ]
     },
     "metadata": {
      "needs_background": "light"
     },
     "output_type": "display_data"
    }
   ],
   "source": [
    "hist, bins = histogram(v1)\n",
    "positions = (bins[:-1] + bins[1:]) / 2\n",
    "plt.bar(positions, hist, width=60)\n",
    "plt.xlabel('portfolio value after 1 year')\n",
    "plt.ylabel('frequency')\n",
    "plt.show()"
   ]
  },
  {
   "cell_type": "markdown",
   "metadata": {},
   "source": [
    "Simulated paths over time:"
   ]
  },
  {
   "cell_type": "code",
   "execution_count": 20,
   "metadata": {},
   "outputs": [
    {
     "data": {
      "image/png": "[encoded data removed]",
      "text/plain": [
       "<Figure size 432x288 with 1 Axes>"
      ]
     },
     "metadata": {
      "needs_background": "light"
     },
     "output_type": "display_data"
    }
   ],
   "source": [
    "# Plot simulated paths over time\n",
    "for res in v1:\n",
    "    plt.plot((0,1), (v0, res))\n",
    "plt.xlabel('time step')\n",
    "plt.ylabel('portfolio value')\n",
    "plt.show()"
   ]
  },
  {
   "cell_type": "markdown",
   "metadata": {
    "collapsed": true
   },
   "source": [
    "# Simulation Example 2"
   ]
  },
  {
   "cell_type": "markdown",
   "metadata": {
    "collapsed": true
   },
   "source": [
    "You are planning for retirement and decide to invest in the market for the next 30 years (instead of only the next year as in example 1).\n",
    "\n",
    "Assume that every year your investment returns from investing into the        S&P 500 will follow a Normal distribution with the mean and standard deviation as in example 1.\n",
    "\n",
    "Your initial capital is still \\$1000"
   ]
  },
  {
   "cell_type": "code",
   "execution_count": 22,
   "metadata": {},
   "outputs": [],
   "source": [
    "v0 = 1000 # Initial capital"
   ]
  },
  {
   "cell_type": "markdown",
   "metadata": {},
   "source": [
    "Between 1988 and 2018, S&P 500 returned 9.16% per year on average with a standard deviation of 16.75%.\n",
    "\n",
    "Simulate 30 columns of 100 observations each of single period returns:"
   ]
  },
  {
   "cell_type": "code",
   "execution_count": 23,
   "metadata": {},
   "outputs": [
    {
     "data": {
      "text/plain": [
       "array([[ 0.00334785,  0.30548171, -0.07187218, ..., -0.01688702,\n",
       "         0.35598452,  0.27469705],\n",
       "       [ 0.29274232,  0.11436229, -0.2859726 , ...,  0.04694334,\n",
       "         0.03216559,  0.48898634],\n",
       "       [ 0.06505686,  0.17188235,  0.07561001, ...,  0.06830639,\n",
       "         0.00420996,  0.1842265 ],\n",
       "       ...,\n",
       "       [ 0.06094254,  0.15499659,  0.21039788, ...,  0.17670565,\n",
       "        -0.04009846,  0.27742979],\n",
       "       [ 0.09252253,  0.10463639,  0.16915107, ...,  0.10975807,\n",
       "        -0.16069651, -0.09454817],\n",
       "       [ 0.06639762,  0.30065971,  0.25408216, ...,  0.12216891,\n",
       "         0.08164044, -0.06168555]])"
      ]
     },
     "execution_count": 23,
     "metadata": {},
     "output_type": "execute_result"
    }
   ],
   "source": [
    "r_speriod30  = random.normal(SnP500_mean_ret, SnP500_std_ret, (Ns, 30))\n",
    "r_speriod30"
   ]
  },
  {
   "cell_type": "markdown",
   "metadata": {},
   "source": [
    "Compute and plot $v_{30}$\n"
   ]
  },
  {
   "cell_type": "code",
   "execution_count": 24,
   "metadata": {},
   "outputs": [
    {
     "data": {
      "image/png": "[encoded data removed]",
      "text/plain": [
       "<Figure size 432x288 with 1 Axes>"
      ]
     },
     "metadata": {
      "needs_background": "light"
     },
     "output_type": "display_data"
    }
   ],
   "source": [
    "v30 = prod(1 + r_speriod30 , 1) * v0\n",
    "\n",
    "hist, bins = histogram(v30)\n",
    "positions = (bins[:-1] + bins[1:]) / 2\n",
    "width = (bins[1] - bins[0]) * 0.8\n",
    "plt.bar(positions, hist, width=width)\n",
    "plt.xlabel('portfolio value after 30 years')\n",
    "plt.ylabel('frequency')\n",
    "plt.show()"
   ]
  },
  {
   "cell_type": "markdown",
   "metadata": {},
   "source": [
    "Simulated paths over time:"
   ]
  },
  {
   "cell_type": "code",
   "execution_count": 25,
   "metadata": {},
   "outputs": [
    {
     "data": {
      "image/png": "[encoded data removed]",
      "text/plain": [
       "<Figure size 432x288 with 1 Axes>"
      ]
     },
     "metadata": {
      "needs_background": "light"
     },
     "output_type": "display_data"
    }
   ],
   "source": [
    "for scenario in r_speriod30:\n",
    "    y = [prod(1 + scenario[0:i]) * v0 for i in range(0,31)]\n",
    "    plt.plot(range(0,31), y)\n",
    "plt.xlabel('time step')\n",
    "plt.ylabel('portfolio value')\n",
    "plt.show()"
   ]
  },
  {
   "cell_type": "markdown",
   "metadata": {},
   "source": [
    "## Simulation Example 3\n",
    "#### Download US Treasury bill data from Federal Reserve:"
   ]
  },
  {
   "cell_type": "code",
   "execution_count": 26,
   "metadata": {
    "scrolled": true
   },
   "outputs": [
    {
     "data": {
      "text/html": [
       "<div>\n",
       "<style scoped>\n",
       "    .dataframe tbody tr th:only-of-type {\n",
       "        vertical-align: middle;\n",
       "    }\n",
       "\n",
       "    .dataframe tbody tr th {\n",
       "        vertical-align: top;\n",
       "    }\n",
       "\n",
       "    .dataframe thead th {\n",
       "        text-align: right;\n",
       "    }\n",
       "</style>\n",
       "<table border=\"1\" class=\"dataframe\">\n",
       "  <thead>\n",
       "    <tr style=\"text-align: right;\">\n",
       "      <th></th>\n",
       "      <th>DTB3</th>\n",
       "    </tr>\n",
       "    <tr>\n",
       "      <th>DATE</th>\n",
       "      <th></th>\n",
       "    </tr>\n",
       "  </thead>\n",
       "  <tbody>\n",
       "    <tr>\n",
       "      <th>1988-01-01</th>\n",
       "      <td>NaN</td>\n",
       "    </tr>\n",
       "    <tr>\n",
       "      <th>1988-01-04</th>\n",
       "      <td>5.88</td>\n",
       "    </tr>\n",
       "    <tr>\n",
       "      <th>1988-01-05</th>\n",
       "      <td>5.93</td>\n",
       "    </tr>\n",
       "    <tr>\n",
       "      <th>1988-01-06</th>\n",
       "      <td>5.84</td>\n",
       "    </tr>\n",
       "    <tr>\n",
       "      <th>1988-01-07</th>\n",
       "      <td>5.78</td>\n",
       "    </tr>\n",
       "  </tbody>\n",
       "</table>\n",
       "</div>"
      ],
      "text/plain": [
       "            DTB3\n",
       "DATE            \n",
       "1988-01-01   NaN\n",
       "1988-01-04  5.88\n",
       "1988-01-05  5.93\n",
       "1988-01-06  5.84\n",
       "1988-01-07  5.78"
      ]
     },
     "execution_count": 26,
     "metadata": {},
     "output_type": "execute_result"
    }
   ],
   "source": [
    "# Download 3-month T-bill rates from Federal Reserve\n",
    "start_date_b = datetime.date(1988,1,1)\n",
    "end_date_b = datetime.date(2019,1,1)\n",
    "TBill_Ddata = web.DataReader('DTB3','fred',start_date_b,end_date_b)\n",
    "TBill_Ddata.head()"
   ]
  },
  {
   "cell_type": "markdown",
   "metadata": {},
   "source": [
    "#### Transform daily data into annual data:"
   ]
  },
  {
   "cell_type": "code",
   "execution_count": 27,
   "metadata": {
    "scrolled": true
   },
   "outputs": [
    {
     "data": {
      "text/html": [
       "<div>\n",
       "<style scoped>\n",
       "    .dataframe tbody tr th:only-of-type {\n",
       "        vertical-align: middle;\n",
       "    }\n",
       "\n",
       "    .dataframe tbody tr th {\n",
       "        vertical-align: top;\n",
       "    }\n",
       "\n",
       "    .dataframe thead th {\n",
       "        text-align: right;\n",
       "    }\n",
       "</style>\n",
       "<table border=\"1\" class=\"dataframe\">\n",
       "  <thead>\n",
       "    <tr style=\"text-align: right;\">\n",
       "      <th></th>\n",
       "      <th>DTB3</th>\n",
       "    </tr>\n",
       "    <tr>\n",
       "      <th>DATE</th>\n",
       "      <th></th>\n",
       "    </tr>\n",
       "  </thead>\n",
       "  <tbody>\n",
       "    <tr>\n",
       "      <th>2015-12-31</th>\n",
       "      <td>0.16</td>\n",
       "    </tr>\n",
       "    <tr>\n",
       "      <th>2016-12-31</th>\n",
       "      <td>0.50</td>\n",
       "    </tr>\n",
       "    <tr>\n",
       "      <th>2017-12-31</th>\n",
       "      <td>1.37</td>\n",
       "    </tr>\n",
       "    <tr>\n",
       "      <th>2018-12-31</th>\n",
       "      <td>2.40</td>\n",
       "    </tr>\n",
       "    <tr>\n",
       "      <th>2019-12-31</th>\n",
       "      <td>NaN</td>\n",
       "    </tr>\n",
       "  </tbody>\n",
       "</table>\n",
       "</div>"
      ],
      "text/plain": [
       "            DTB3\n",
       "DATE            \n",
       "2015-12-31  0.16\n",
       "2016-12-31  0.50\n",
       "2017-12-31  1.37\n",
       "2018-12-31  2.40\n",
       "2019-12-31   NaN"
      ]
     },
     "execution_count": 27,
     "metadata": {},
     "output_type": "execute_result"
    }
   ],
   "source": [
    "# Create a time-series of annual data points from daily data\n",
    "TBill_Adata = TBill_Ddata.resample('A').last()\n",
    "TBill_Adata[['DTB3']].tail()"
   ]
  },
  {
   "cell_type": "markdown",
   "metadata": {},
   "source": [
    "#### Compute annual return for bonds:"
   ]
  },
  {
   "cell_type": "code",
   "execution_count": 28,
   "metadata": {
    "scrolled": true
   },
   "outputs": [
    {
     "name": "stdout",
     "output_type": "stream",
     "text": [
      "DATE\n",
      "1988-12-31    0.0810\n",
      "1989-12-31    0.0755\n",
      "1990-12-31    0.0644\n",
      "1991-12-31    0.0388\n",
      "1992-12-31    0.0308\n",
      "1993-12-31    0.0301\n",
      "1994-12-31    0.0553\n",
      "1995-12-31    0.0496\n",
      "1996-12-31    0.0507\n",
      "1997-12-31    0.0522\n",
      "1998-12-31    0.0437\n",
      "1999-12-31    0.0517\n",
      "2000-12-31    0.0573\n",
      "2001-12-31    0.0171\n",
      "2002-12-31    0.0120\n",
      "2003-12-31    0.0093\n",
      "2004-12-31    0.0218\n",
      "2005-12-31    0.0399\n",
      "2006-12-31    0.0489\n",
      "2007-12-31    0.0329\n",
      "2008-12-31    0.0011\n",
      "2009-12-31    0.0006\n",
      "2010-12-31    0.0012\n",
      "2011-12-31    0.0002\n",
      "2012-12-31    0.0005\n",
      "2013-12-31    0.0007\n",
      "2014-12-31    0.0004\n",
      "2015-12-31    0.0016\n",
      "2016-12-31    0.0050\n",
      "2017-12-31    0.0137\n",
      "2018-12-31    0.0240\n",
      "Freq: A-DEC, Name: returns, dtype: float64\n"
     ]
    }
   ],
   "source": [
    "TBill_Adata['returns'] = TBill_Adata['DTB3'] / 100\n",
    "TBill_Adata = TBill_Adata.dropna()\n",
    "print (TBill_Adata['returns'])"
   ]
  },
  {
   "cell_type": "markdown",
   "metadata": {},
   "source": [
    "#### Compute average annual return and standard deviation of return for bonds:"
   ]
  },
  {
   "cell_type": "code",
   "execution_count": 29,
   "metadata": {},
   "outputs": [
    {
     "name": "stdout",
     "output_type": "stream",
     "text": [
      "T-bill average return = 2.94194%, st. dev  = 2.48171%\n"
     ]
    }
   ],
   "source": [
    "TBill_mean_ret = float(TBill_Adata[['returns']].mean())\n",
    "TBill_std_ret = float(TBill_Adata[['returns']].std())\n",
    "print (\"T-bill average return = %g%%, st. dev  = %g%%\" % (100*TBill_mean_ret, 100*TBill_std_ret))"
   ]
  },
  {
   "cell_type": "markdown",
   "metadata": {},
   "source": [
    "#### Compute covariance matrix:"
   ]
  },
  {
   "cell_type": "code",
   "execution_count": 30,
   "metadata": {},
   "outputs": [
    {
     "data": {
      "text/plain": [
       "array([[0.02806351, 0.00084045],\n",
       "       [0.00084045, 0.00061589]])"
      ]
     },
     "execution_count": 30,
     "metadata": {},
     "output_type": "execute_result"
    }
   ],
   "source": [
    "covMat = cov(array(SnP500_Adata[['returns']]),array(TBill_Adata[['returns']]),rowvar=0)\n",
    "covMat"
   ]
  },
  {
   "cell_type": "markdown",
   "metadata": {},
   "source": [
    "#### Simulate portfolio:"
   ]
  },
  {
   "cell_type": "code",
   "execution_count": 31,
   "metadata": {
    "scrolled": true
   },
   "outputs": [],
   "source": [
    "v0 = 1000 # Initial capital\n",
    "Ns = 5000 # Number of scenarios"
   ]
  },
  {
   "cell_type": "code",
   "execution_count": 32,
   "metadata": {},
   "outputs": [
    {
     "data": {
      "text/plain": [
       "[0.09163509942100716, 0.029419354838709683]"
      ]
     },
     "execution_count": 32,
     "metadata": {},
     "output_type": "execute_result"
    }
   ],
   "source": [
    "mu = [SnP500_mean_ret, TBill_mean_ret] # Expected return\n",
    "mu"
   ]
  },
  {
   "cell_type": "code",
   "execution_count": 33,
   "metadata": {},
   "outputs": [],
   "source": [
    "stockRet = ones(Ns)\n",
    "bondsRet = ones(Ns)"
   ]
  },
  {
   "cell_type": "code",
   "execution_count": 34,
   "metadata": {},
   "outputs": [],
   "source": [
    "scenarios = random.multivariate_normal(mu, covMat, Ns)\n",
    "for year in range(1, 31):\n",
    "    scenarios = random.multivariate_normal(mu, covMat, Ns)\n",
    "    stockRet *= (1 + scenarios[:,0])\n",
    "    bondsRet *= (1 + scenarios[:,1])"
   ]
  },
  {
   "cell_type": "code",
   "execution_count": 35,
   "metadata": {},
   "outputs": [],
   "source": [
    "v30 = 0.5 * v0 * stockRet + 0.5 * v0 * bondsRet"
   ]
  },
  {
   "cell_type": "code",
   "execution_count": 36,
   "metadata": {},
   "outputs": [
    {
     "data": {
      "image/png": "[encoded data removed]",
      "text/plain": [
       "<Figure size 432x288 with 1 Axes>"
      ]
     },
     "metadata": {
      "needs_background": "light"
     },
     "output_type": "display_data"
    }
   ],
   "source": [
    "hist, bins = histogram(v30, bins = 100)\n",
    "positions = (bins[:-1] + bins[1:]) / 2\n",
    "width = (bins[1] - bins[0]) * 0.8\n",
    "plt.bar(positions, hist, width=width)\n",
    "plt.xlabel('portfolio value after 30 years')\n",
    "plt.ylabel('frequency')\n",
    "plt.show()"
   ]
  },
  {
   "cell_type": "markdown",
   "metadata": {
    "collapsed": true
   },
   "source": [
    "# Simulation Example 4\n",
    "\n",
    "Compare two portfolios"
   ]
  },
  {
   "cell_type": "code",
   "execution_count": 37,
   "metadata": {},
   "outputs": [],
   "source": [
    "# Compute portfolios by iterating through different combinations of weights\n",
    "v30comp = []\n",
    "for w in arange(0.2, 1.01, 0.2):\n",
    "    v30comp += [w * v0 * stockRet + (1 - w) * v0 * bondsRet]"
   ]
  },
  {
   "cell_type": "code",
   "execution_count": 38,
   "metadata": {},
   "outputs": [],
   "source": [
    "# Plot a histogram of the distribution of\n",
    "# differences in outcomes for v30\n",
    "# (Stratery 4 - Strategy 2)\n",
    "v30d = v30comp[3] - v30comp[1]"
   ]
  },
  {
   "cell_type": "code",
   "execution_count": 39,
   "metadata": {},
   "outputs": [
    {
     "data": {
      "image/png": "[encoded data removed]",
      "text/plain": [
       "<Figure size 432x288 with 1 Axes>"
      ]
     },
     "metadata": {
      "needs_background": "light"
     },
     "output_type": "display_data"
    }
   ],
   "source": [
    "hist, bins = histogram(v30d, bins = 50)\n",
    "positions = (bins[:-1] + bins[1:]) / 2\n",
    "width = (bins[1] - bins[0]) * 0.8\n",
    "plt.bar(positions, hist, width=width)\n",
    "plt.show()"
   ]
  },
  {
   "cell_type": "code",
   "execution_count": 40,
   "metadata": {},
   "outputs": [
    {
     "name": "stdout",
     "output_type": "stream",
     "text": [
      "Strategy 4 was better in 4723 cases \n",
      "Strategy 2 was better in 277 cases\n",
      "Difference = 4446\n"
     ]
    }
   ],
   "source": [
    "# Compute number of elements in v30d that are > 0 and < 0 and compare\n",
    "pos_count = (v30d > 0).sum()\n",
    "neg_count = (v30d <= 0).sum()\n",
    "\n",
    "print (u\"\"\"Strategy 4 was better in %d cases \n",
    "Strategy 2 was better in %d cases\n",
    "Difference = %d\"\"\" % (pos_count, neg_count, pos_count - neg_count))"
   ]
  }
 ],
 "metadata": {
  "anaconda-cloud": {},
  "kernelspec": {
   "display_name": "Python 3.6",
   "language": "python",
   "name": "python3"
  },
  "language_info": {
   "codemirror_mode": {
    "name": "ipython",
    "version": 3
   },
   "file_extension": ".py",
   "mimetype": "text/x-python",
   "name": "python",
   "nbconvert_exporter": "python",
   "pygments_lexer": "ipython3",
   "version": "3.6.8"
  }
 },
 "nbformat": 4,
 "nbformat_minor": 1
}
